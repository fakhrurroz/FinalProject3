{
 "cells": [
  {
   "cell_type": "markdown",
   "id": "00b1acbd",
   "metadata": {},
   "source": [
    "# Perkenalan"
   ]
  },
  {
   "cell_type": "markdown",
   "id": "0242c378",
   "metadata": {},
   "source": [
    "**Anggota Kelompok**\n",
    "\n",
    "1. Fachriansyah Muhammad Haikal (PYTN-KS14-010)\n",
    "2. Fakhrurrozi (PYTN-KS14-018)\n",
    "3. Safira Alya Fafaza (PYTN-KS14-017)\n",
    "\n",
    "**Latar Belakang**\n",
    "Penyakit gagal jantung adalah kondisi yang serius dan mempengaruhi kualitas hidup serta tingkat kematian pasien. Prediksi yang akurat tentang risiko gagal jantung dapat membantu tenaga medis dalam mengidentifikasi pasien yang rentan dan memungkinkan pengambilan tindakan pencegahan yang tepat.\n",
    "\n",
    "Dalam hal ini, penggunaan ensemble model menjadi relevan karena dapat memanfaatkan kekuatan berbagai algoritma pembelajaran mesin yang berbeda. Ensemble model menggabungkan hasil prediksi dari beberapa model yang berbeda, seperti KNN, random forest, naive bayes, dan lainnya. Dengan memadukan prediksi dari beberapa model, ensemble model dapat mengurangi bias dan varians yang mungkin ada dalam model tunggal, dan pada akhirnya menghasilkan prediksi yang lebih akurat.\n",
    "\n",
    "Ensemble model memiliki beberapa variasi, seperti voting ensemble, bagging, dan boosting. Misalnya, pada voting ensemble, prediksi akhir didapatkan dengan memilih hasil prediksi mayoritas dari model yang terlibat. Dengan menggabungkan hasil prediksi dari beberapa model yang berbeda, ensemble model pada dataset Heart Failure Prediction dapat meningkatkan akurasi dan performa prediksi. Dalam konteks medis, hal ini akan membantu dalam mengidentifikasi pasien dengan risiko tinggi gagal jantung, sehingga dapat dilakukan tindakan pencegahan yang tepat untuk meningkatkan prognosis dan kualitas hidup mereka.\n",
    "\n",
    "**Dataset**\n",
    "\n",
    "Dataset yang digunakan dalam projek ini adalah Heart Failure yang berisi kelangsungan hidup pasien dengan gagal jantung dari kreatinin serum dan fraksi ejeksi. Dataset ini berjumlah 299 dengan 13 atribut. Pada projek ini atribut yang akan digunakan dan diperlukan untuk membuat sistem prediksi sebanyak 13 antara lain sebagai berikut :\n",
    "1. age : umur pasien\n",
    "2. anaemia : apakah ada pengurangan haemoglobin\n",
    "3. creatinine_phosphokinase : level enzim CPK dalam mcg/L\n",
    "4. diabetes : apakah pasien punya riwayat diabetes\n",
    "5. ejection_fraction : persentase darah yang meninggalkan jantung dalam persentasi di setiap kontraksi jantung\n",
    "6. high_blood_pressure : apakah pasien punya darah tinggi\n",
    "7. platelets : jumlah platelet di darah dalam kiloplatelets/mL\n",
    "8. serum_creatinine : level serum creatinine di darah dalam mg/dL\n",
    "9. serum_sodium : level serum sodium di darah dalam mEq/L\n",
    "10. sex : apakah pasien pria atau wanita\n",
    "11. smoking : apakah pasien merokok\n",
    "12. time : waktu dalam hari untuk follow-up\n",
    "13. DEATH_EVENT : apakah pasien sudah meninggal saat waktu follow-up\n",
    "\n",
    "\n",
    "**Objektif**\n",
    "* menemukan faktor-faktor yang mempengaruhi terjadinya hujan di Australia\n",
    "* menemukan akurasi prediksi keselamtan pasien dari penyakit jantung menggunakan konsep Classification dengan Ensemble Model\n",
    "* memberikan wawasan yang dapat bermanfaat bagi masyarakat mengenai penyakit jantung"
   ]
  },
  {
   "cell_type": "markdown",
   "id": "a2143ad5",
   "metadata": {},
   "source": [
    "# Import Library"
   ]
  },
  {
   "cell_type": "code",
   "execution_count": 1,
   "id": "705818af",
   "metadata": {},
   "outputs": [
    {
     "ename": "ModuleNotFoundError",
     "evalue": "No module named 'imblearn'",
     "output_type": "error",
     "traceback": [
      "\u001b[1;31m---------------------------------------------------------------------------\u001b[0m",
      "\u001b[1;31mModuleNotFoundError\u001b[0m                       Traceback (most recent call last)",
      "Input \u001b[1;32mIn [1]\u001b[0m, in \u001b[0;36m<cell line: 3>\u001b[1;34m()\u001b[0m\n\u001b[0;32m      1\u001b[0m \u001b[38;5;28;01mfrom\u001b[39;00m \u001b[38;5;21;01msklearn\u001b[39;00m\u001b[38;5;21;01m.\u001b[39;00m\u001b[38;5;21;01mmodel_selection\u001b[39;00m \u001b[38;5;28;01mimport\u001b[39;00m train_test_split\n\u001b[0;32m      2\u001b[0m \u001b[38;5;28;01mfrom\u001b[39;00m \u001b[38;5;21;01msklearn\u001b[39;00m\u001b[38;5;21;01m.\u001b[39;00m\u001b[38;5;21;01mpreprocessing\u001b[39;00m \u001b[38;5;28;01mimport\u001b[39;00m LabelEncoder, StandardScaler\n\u001b[1;32m----> 3\u001b[0m \u001b[38;5;28;01mfrom\u001b[39;00m \u001b[38;5;21;01mimblearn\u001b[39;00m\u001b[38;5;21;01m.\u001b[39;00m\u001b[38;5;21;01mover_sampling\u001b[39;00m \u001b[38;5;28;01mimport\u001b[39;00m SMOTE\n\u001b[0;32m      4\u001b[0m \u001b[38;5;28;01mfrom\u001b[39;00m \u001b[38;5;21;01msklearn\u001b[39;00m\u001b[38;5;21;01m.\u001b[39;00m\u001b[38;5;21;01mlinear_model\u001b[39;00m \u001b[38;5;28;01mimport\u001b[39;00m LogisticRegression\n\u001b[0;32m      5\u001b[0m \u001b[38;5;28;01mfrom\u001b[39;00m \u001b[38;5;21;01msklearn\u001b[39;00m\u001b[38;5;21;01m.\u001b[39;00m\u001b[38;5;21;01mneighbors\u001b[39;00m \u001b[38;5;28;01mimport\u001b[39;00m KNeighborsClassifier\n",
      "\u001b[1;31mModuleNotFoundError\u001b[0m: No module named 'imblearn'"
     ]
    }
   ],
   "source": [
    "from sklearn.model_selection import train_test_split\n",
    "from sklearn.preprocessing import LabelEncoder, StandardScaler\n",
    "from imblearn.over_sampling import SMOTE\n",
    "from sklearn.linear_model import LogisticRegression\n",
    "from sklearn.neighbors import KNeighborsClassifier\n",
    "from sklearn.naive_bayes import GaussianNB\n",
    "from sklearn.ensemble import RandomForestClassifier\n",
    "from sklearn.ensemble import BaggingClassifier, VotingClassifier\n",
    "from sklearn.metrics import confusion_matrix\n",
    "\n",
    "import pandas as pd\n",
    "import numpy as np\n",
    "import seaborn as sns\n",
    "import matplotlib.pyplot as plt\n",
    "import calendar\n",
    "import warnings\n",
    "warnings.filterwarnings('ignore')"
   ]
  },
  {
   "cell_type": "markdown",
   "id": "1367f11e",
   "metadata": {},
   "source": [
    "# Data Loading"
   ]
  },
  {
   "cell_type": "code",
   "execution_count": null,
   "id": "b8366020",
   "metadata": {},
   "outputs": [],
   "source": [
    "df = pd.read_csv('heart_failure_clinical_records_dataset.csv')\n",
    "df.head()"
   ]
  },
  {
   "cell_type": "code",
   "execution_count": null,
   "id": "127b9b75",
   "metadata": {},
   "outputs": [],
   "source": [
    "# jumlah data dan kolom\n",
    "df.shape"
   ]
  },
  {
   "cell_type": "markdown",
   "id": "26ead617",
   "metadata": {},
   "source": [
    "Dapat diketahui bahwa terdapat 299 baris dan 13 kolom"
   ]
  },
  {
   "cell_type": "code",
   "execution_count": null,
   "id": "ff3d59f4",
   "metadata": {},
   "outputs": [],
   "source": [
    "df.info()"
   ]
  },
  {
   "cell_type": "markdown",
   "id": "05e74c8c",
   "metadata": {},
   "source": [
    "# Data Cleansing"
   ]
  },
  {
   "cell_type": "markdown",
   "id": "822f597f",
   "metadata": {},
   "source": [
    "## Mengganti Nama Atribut"
   ]
  },
  {
   "cell_type": "code",
   "execution_count": null,
   "id": "a3c06533",
   "metadata": {
    "scrolled": true
   },
   "outputs": [],
   "source": [
    "df.rename(columns={\n",
    "    'DEATH_EVENT' : 'death_event'\n",
    "}, inplace=True)\n",
    "df.head(10)"
   ]
  },
  {
   "cell_type": "markdown",
   "id": "128db938",
   "metadata": {},
   "source": [
    "## Mengubah Isi Atribut"
   ]
  },
  {
   "cell_type": "markdown",
   "id": "02d00ff7",
   "metadata": {},
   "source": [
    "### Yes dan No"
   ]
  },
  {
   "cell_type": "code",
   "execution_count": null,
   "id": "758b8c60",
   "metadata": {
    "scrolled": true
   },
   "outputs": [],
   "source": [
    "convert_yes_no = ['anaemia', 'diabetes', 'high_blood_pressure', 'smoking', 'death_event']\n",
    "value_change = {0: 'No', 1: 'Yes'}\n",
    "df[convert_yes_no] = df[convert_yes_no].replace(value_change)\n",
    "df"
   ]
  },
  {
   "cell_type": "markdown",
   "id": "4e6490b7",
   "metadata": {},
   "source": [
    "### Woman dan Man"
   ]
  },
  {
   "cell_type": "code",
   "execution_count": null,
   "id": "e062ee78",
   "metadata": {},
   "outputs": [],
   "source": [
    "convert_sex = ['sex']\n",
    "value_change = {0: 'Woman', 1: 'Man'}\n",
    "df[convert_sex] = df[convert_sex].replace(value_change)\n",
    "df"
   ]
  },
  {
   "cell_type": "markdown",
   "id": "f4f2cceb",
   "metadata": {},
   "source": [
    "## Cek Data Kosong"
   ]
  },
  {
   "cell_type": "code",
   "execution_count": null,
   "id": "a086b061",
   "metadata": {
    "scrolled": false
   },
   "outputs": [],
   "source": [
    "df.isnull().sum()"
   ]
  },
  {
   "cell_type": "markdown",
   "id": "cce99f81",
   "metadata": {},
   "source": [
    "Dapat diketahui tidak ada data yang kosong"
   ]
  },
  {
   "cell_type": "markdown",
   "id": "ef1218a5",
   "metadata": {},
   "source": [
    "## Cek Data Duplikat"
   ]
  },
  {
   "cell_type": "code",
   "execution_count": null,
   "id": "f104bb6b",
   "metadata": {
    "scrolled": true
   },
   "outputs": [],
   "source": [
    "df.duplicated().sum()"
   ]
  },
  {
   "cell_type": "markdown",
   "id": "c3300ba5",
   "metadata": {},
   "source": [
    "Dapat diketahui tidak ada data yang duplikat"
   ]
  },
  {
   "cell_type": "markdown",
   "id": "10743dc3",
   "metadata": {},
   "source": [
    "## Cek One Value Unique"
   ]
  },
  {
   "cell_type": "code",
   "execution_count": null,
   "id": "0441750c",
   "metadata": {},
   "outputs": [],
   "source": [
    "for column in df.columns:\n",
    "    print(column, df[column].nunique())"
   ]
  },
  {
   "cell_type": "markdown",
   "id": "6741368b",
   "metadata": {},
   "source": [
    "Dapat diketahui bahwa atribut yang ada tidak ditemukan one unique value sehingga tidak perlu ada yang dihapus."
   ]
  },
  {
   "cell_type": "markdown",
   "id": "8b4fe05b",
   "metadata": {},
   "source": [
    "# Eksplorasi Data"
   ]
  },
  {
   "cell_type": "code",
   "execution_count": null,
   "id": "b5760fa8",
   "metadata": {
    "scrolled": true
   },
   "outputs": [],
   "source": [
    "df.info()"
   ]
  },
  {
   "cell_type": "markdown",
   "id": "997ead1b",
   "metadata": {},
   "source": [
    "## Analisa Desktiptif"
   ]
  },
  {
   "cell_type": "code",
   "execution_count": null,
   "id": "b60416a6",
   "metadata": {},
   "outputs": [],
   "source": [
    "df.describe()"
   ]
  },
  {
   "cell_type": "markdown",
   "id": "a7644a19",
   "metadata": {},
   "source": [
    "## Categorical Features"
   ]
  },
  {
   "cell_type": "code",
   "execution_count": null,
   "id": "b9c9069f",
   "metadata": {},
   "outputs": [],
   "source": [
    "categorical_features = [feature for feature in df.columns if (\n",
    "    df[feature].dtypes == \"O\")]\n",
    "categorical_features"
   ]
  },
  {
   "cell_type": "code",
   "execution_count": null,
   "id": "f32ca699",
   "metadata": {},
   "outputs": [],
   "source": [
    "for feature in categorical_features:\n",
    "    print(\n",
    "        f\"Feature {feature} memiliki unique value {(df[feature].nunique())}\")"
   ]
  },
  {
   "cell_type": "code",
   "execution_count": null,
   "id": "25175793",
   "metadata": {
    "scrolled": true
   },
   "outputs": [],
   "source": [
    "# visualisasi categorical features\n",
    "plt.figure(figsize=(15, 100), facecolor=\"white\")\n",
    "plotnumb = 1\n",
    "for cat in categorical_features:\n",
    "    ax = plt.subplot(15, 2, plotnumb)\n",
    "    sns.countplot(y=cat, data=df)\n",
    "    ax.bar_label(ax.containers[0], fontsize=10)\n",
    "    plt.xlabel(cat)\n",
    "    plt.title(cat)\n",
    "    plotnumb += 1\n",
    "plt.show()"
   ]
  },
  {
   "cell_type": "markdown",
   "id": "513c88b1",
   "metadata": {},
   "source": [
    "Dapat diketahui bahwa :\n",
    "1. Orang yang memiliki penyakit jantung kebanyakan berjenis kelamin laki-laki\n",
    "2. Orang yang memiliki penyakit jantung kebanyakan tidak meninggal"
   ]
  },
  {
   "cell_type": "markdown",
   "id": "2c1e4d79",
   "metadata": {},
   "source": [
    "## Numerical Features"
   ]
  },
  {
   "cell_type": "code",
   "execution_count": null,
   "id": "ef81996b",
   "metadata": {},
   "outputs": [],
   "source": [
    "numerical_features = [feature for feature in df.columns if (\n",
    "    df[feature].dtypes != \"O\")]\n",
    "print(numerical_features)\n",
    "print(f\"Terdapat {len(numerical_features)} Numerical Features\")"
   ]
  },
  {
   "cell_type": "code",
   "execution_count": null,
   "id": "162664cd",
   "metadata": {
    "scrolled": true
   },
   "outputs": [],
   "source": [
    "discrete_feature = [\n",
    "    feature for feature in numerical_features if df[feature].nunique() < 25]\n",
    "print(discrete_feature)\n",
    "print(f\"Terdapat {len(discrete_feature)} Discrete Numerical Features\")"
   ]
  },
  {
   "cell_type": "code",
   "execution_count": null,
   "id": "886c50bf",
   "metadata": {
    "scrolled": true
   },
   "outputs": [],
   "source": [
    "continuous_features = [\n",
    "    feature for feature in numerical_features if feature not in discrete_feature]\n",
    "print(continuous_features)\n",
    "print(f\"Terdapat {len(continuous_features)} Continuous Feature\")"
   ]
  },
  {
   "cell_type": "code",
   "execution_count": null,
   "id": "b02fbd62",
   "metadata": {
    "scrolled": true
   },
   "outputs": [],
   "source": [
    "# visualisasi numerical features\n",
    "plt.figure(figsize=(20, 60), facecolor='white')\n",
    "num = 1\n",
    "for numerical_feature in numerical_features:\n",
    "    ax = plt.subplot(12, 3, num)\n",
    "    sns.boxplot(df[numerical_feature])\n",
    "    plt.xlabel(numerical_feature)\n",
    "    num += 1\n",
    "plt.show()"
   ]
  },
  {
   "cell_type": "code",
   "execution_count": null,
   "id": "90c87420",
   "metadata": {},
   "outputs": [],
   "source": [
    "def count_outliers_iqr(df, column):\n",
    "    q1 = df[column].quantile(0.25)\n",
    "    q3 = df[column].quantile(0.75)\n",
    "    iqr = q3 - q1\n",
    "\n",
    "    lower_bound = q1 - 1.5 * iqr\n",
    "    upper_bound = q3 + 1.5 * iqr\n",
    "\n",
    "    outliers = df[(df[column] < lower_bound) | (df[column] > upper_bound)]\n",
    "\n",
    "    return outliers[column].count()"
   ]
  },
  {
   "cell_type": "code",
   "execution_count": null,
   "id": "447cc6b1",
   "metadata": {
    "scrolled": true
   },
   "outputs": [],
   "source": [
    "count_outliers_iqr(df, ['creatinine_phosphokinase', 'ejection_fraction', 'platelets', 'serum_creatinine', 'serum_sodium'])"
   ]
  },
  {
   "cell_type": "markdown",
   "id": "2423ab2d",
   "metadata": {},
   "source": [
    "Dapat diketahui bahwa terdapat beberapa data yang outlier pada atribut creatinine_phosphokinase,ejection_fraction, platelets, serum_creatinine, dan serum_sodium"
   ]
  },
  {
   "cell_type": "markdown",
   "id": "b37cd340",
   "metadata": {},
   "source": [
    "**Handling Data Outliers**"
   ]
  },
  {
   "cell_type": "code",
   "execution_count": null,
   "id": "14c98da1",
   "metadata": {},
   "outputs": [],
   "source": [
    "outliers = ['creatinine_phosphokinase', 'ejection_fraction',\n",
    "            'platelets', 'serum_creatinine', 'serum_sodium']\n",
    "\n",
    "for i in outliers:\n",
    "    q1 = df[i].quantile(0.25)\n",
    "    q3 = df[i].quantile(0.75)\n",
    "\n",
    "    iqr = q3 - q1\n",
    "    mini = q1 - 1.5 * iqr\n",
    "    maxi = q3 + 1.5*iqr\n",
    "\n",
    "    df[i] = np.where(\n",
    "        df[i] > maxi,\n",
    "        maxi,\n",
    "        np.where(\n",
    "            df[i] < mini,\n",
    "            mini,\n",
    "            df[i]\n",
    "        )\n",
    "    )"
   ]
  },
  {
   "cell_type": "code",
   "execution_count": null,
   "id": "b48115ee",
   "metadata": {},
   "outputs": [],
   "source": [
    "count_outliers_iqr(df, ['creatinine_phosphokinase', 'ejection_fraction', 'platelets', 'serum_creatinine', 'serum_sodium'])"
   ]
  },
  {
   "cell_type": "code",
   "execution_count": null,
   "id": "a85b3bd8",
   "metadata": {},
   "outputs": [],
   "source": [
    "# visualisasi numerical features\n",
    "plt.figure(figsize=(20, 60), facecolor='white')\n",
    "num = 1\n",
    "for numerical_feature in numerical_features:\n",
    "    ax = plt.subplot(12, 3, num)\n",
    "    sns.boxplot(df[numerical_feature])\n",
    "    plt.xlabel(numerical_feature)\n",
    "    num += 1\n",
    "plt.show()"
   ]
  },
  {
   "cell_type": "markdown",
   "id": "8138e3d2",
   "metadata": {},
   "source": [
    "## Analisis age vs death_event"
   ]
  },
  {
   "cell_type": "code",
   "execution_count": null,
   "id": "8304ea0b",
   "metadata": {},
   "outputs": [],
   "source": [
    "death_event_1 = df[df['death_event'] == 'Yes']\n",
    "\n",
    "plt.figure(figsize=(10, 6))\n",
    "sns.histplot(data=death_event_1, x='age', kde=True, bins=20)\n",
    "plt.title('Distribusi Umur Pasien dengan Death Event == Yes')\n",
    "plt.xlabel('Umur')\n",
    "plt.ylabel('Jumlah Pasien')\n",
    "\n",
    "plt.show()"
   ]
  },
  {
   "cell_type": "markdown",
   "id": "b2e2c410",
   "metadata": {},
   "source": [
    "Dapat diketahui bahwa pasien yang meninggal karena penyakit jantung paling banyak berumur 60-an tahun"
   ]
  },
  {
   "cell_type": "markdown",
   "id": "5392bd75",
   "metadata": {},
   "source": [
    "## Analisis anaemia vs death_event"
   ]
  },
  {
   "cell_type": "code",
   "execution_count": null,
   "id": "0756b20e",
   "metadata": {
    "scrolled": false
   },
   "outputs": [],
   "source": [
    "df.groupby('death_event')['anaemia'].value_counts().plot(kind='barh')"
   ]
  },
  {
   "cell_type": "markdown",
   "id": "1db04fc4",
   "metadata": {},
   "source": [
    "Dapat diketahui bahwa lebih banyak pasien yang tidak meninggal dan tidak memiliki riwayat anemia"
   ]
  },
  {
   "cell_type": "markdown",
   "id": "9f2bfa48",
   "metadata": {},
   "source": [
    "## Analisis diabetes vs death_event"
   ]
  },
  {
   "cell_type": "code",
   "execution_count": null,
   "id": "65a75f94",
   "metadata": {},
   "outputs": [],
   "source": [
    "df.groupby('death_event')['diabetes'].value_counts().plot(kind='barh')"
   ]
  },
  {
   "cell_type": "markdown",
   "id": "7f4e8659",
   "metadata": {},
   "source": [
    "Dapat diketahui bahwa lebih banyak pasien yang tidak meninggal dan tidak memiliki riwayat diabetes"
   ]
  },
  {
   "cell_type": "markdown",
   "id": "468e523a",
   "metadata": {},
   "source": [
    "## Analisis high_blood_pressure vs death_event"
   ]
  },
  {
   "cell_type": "code",
   "execution_count": null,
   "id": "aa3d71ec",
   "metadata": {},
   "outputs": [],
   "source": [
    "df.groupby('death_event')['high_blood_pressure'].value_counts().plot(kind='barh')"
   ]
  },
  {
   "cell_type": "markdown",
   "id": "02c7bc2b",
   "metadata": {},
   "source": [
    "Dapat diketahui bahwa lebih banyak pasien yang tidak meninggal dan tidak memiliki riwayat tekanan darah tinggi"
   ]
  },
  {
   "cell_type": "markdown",
   "id": "fcc21b6a",
   "metadata": {},
   "source": [
    "## Analisis smoking vs death_event"
   ]
  },
  {
   "cell_type": "code",
   "execution_count": null,
   "id": "b95a2571",
   "metadata": {},
   "outputs": [],
   "source": [
    "df.groupby('death_event')['smoking'].value_counts().plot(kind='barh')"
   ]
  },
  {
   "cell_type": "markdown",
   "id": "5fe1ddf4",
   "metadata": {},
   "source": [
    "Dapat diketahui bahwa lebih banyak pasien yang tidak meninggal dan tidak merokok"
   ]
  },
  {
   "cell_type": "markdown",
   "id": "7b27ec23",
   "metadata": {},
   "source": [
    "## Analisis serum_cretinin dan serum_sodium vs death_event"
   ]
  },
  {
   "cell_type": "code",
   "execution_count": null,
   "id": "b2e83026",
   "metadata": {},
   "outputs": [],
   "source": [
    "fig, axs = plt.subplots(ncols=2, figsize=(12,5))\n",
    "\n",
    "sns.boxplot(data=df, x='death_event', y='serum_creatinine', ax=axs[0])\n",
    "axs[0].set_title('Distribusi Serum Creatinine Berdasarkan Kelas DEATH_EVENT')\n",
    "axs[0].set_xlabel('Kelas DEATH_EVENT')\n",
    "axs[0].set_ylabel('Serum Creatinine')\n",
    "\n",
    "sns.boxplot(data=df, x='death_event', y='serum_sodium', ax=axs[1])\n",
    "axs[1].set_title('Distribusi Serum Sodium Berdasarkan Kelas DEATH_EVENT')\n",
    "axs[1].set_xlabel('Kelas DEATH_EVENT')\n",
    "axs[1].set_ylabel('Serum Sodium')\n",
    "\n",
    "plt.show()"
   ]
  },
  {
   "cell_type": "markdown",
   "id": "709f9f1d",
   "metadata": {},
   "source": [
    "Dapat diketahui bahwa :\n",
    "1. Pasien yang meninggal biasanya memiliki kadar kreatinin lebih tinggi \n",
    "2. Pasien yang meninggal biasanya memiliki kadar sodium yang lebih rendah"
   ]
  },
  {
   "cell_type": "markdown",
   "id": "82e21b9c",
   "metadata": {},
   "source": [
    "# Data Pre-processing"
   ]
  },
  {
   "cell_type": "markdown",
   "id": "0a6c0a82",
   "metadata": {},
   "source": [
    "## Encode"
   ]
  },
  {
   "cell_type": "code",
   "execution_count": null,
   "id": "bfaee836",
   "metadata": {},
   "outputs": [],
   "source": [
    "# Ubah kedalam bentuk numerik\n",
    "encoded_data = LabelEncoder()\n",
    "\n",
    "for cat in categorical_features:\n",
    "        if cat in df.columns.values:\n",
    "            df[cat] = encoded_data.fit_transform(df[cat])\n",
    "\n",
    "df.head()"
   ]
  },
  {
   "cell_type": "markdown",
   "id": "31095b4f",
   "metadata": {},
   "source": [
    "## Korelasi Data"
   ]
  },
  {
   "cell_type": "code",
   "execution_count": null,
   "id": "a63e4c9c",
   "metadata": {},
   "outputs": [],
   "source": [
    "# Cek korelasi\n",
    "corr_mat = df.corr()\n",
    "fig = plt.figure(figsize=(16, 8))\n",
    "sns.heatmap(corr_mat, annot=True)"
   ]
  },
  {
   "cell_type": "markdown",
   "id": "62424cb3",
   "metadata": {},
   "source": [
    "# Pendefinisian Model"
   ]
  },
  {
   "cell_type": "markdown",
   "id": "409fb2a5",
   "metadata": {},
   "source": [
    "## Train-Test-Split"
   ]
  },
  {
   "cell_type": "markdown",
   "id": "a5e93111",
   "metadata": {},
   "source": [
    "Menentukan variabel bebas dan variabel terikat :\n",
    "\n",
    "x = variabel bebas = age, anaemia, creatinine_phosphokinase, diabetes, ejection_fraction, high_blood_pressure, platelets, serum_creatinine, serum_sodium, sex, smoking dan time\t\n",
    "y = variabel terikat = death_event"
   ]
  },
  {
   "cell_type": "code",
   "execution_count": null,
   "id": "5ee0f204",
   "metadata": {},
   "outputs": [],
   "source": [
    "X = df.drop('death_event', axis=1)\n",
    "y = df['death_event']"
   ]
  },
  {
   "cell_type": "markdown",
   "id": "4e9caaad",
   "metadata": {},
   "source": [
    "Membagi data menjadi training dan testing dengan training sebesar 70% dan testing sebesar 30%"
   ]
  },
  {
   "cell_type": "code",
   "execution_count": null,
   "id": "4ee50fe6",
   "metadata": {},
   "outputs": [],
   "source": [
    "X_train, X_test, y_train, y_test = train_test_split(X, y, test_size=0.3)"
   ]
  },
  {
   "cell_type": "markdown",
   "id": "8bb45546",
   "metadata": {},
   "source": [
    "# Pelatihan Model"
   ]
  },
  {
   "cell_type": "markdown",
   "id": "570402f2",
   "metadata": {},
   "source": [
    "## Handle Imbalanced Data"
   ]
  },
  {
   "cell_type": "code",
   "execution_count": null,
   "id": "d117dee7",
   "metadata": {},
   "outputs": [],
   "source": [
    "plt.figure(figsize=(10, 4), facecolor=\"white\")\n",
    "plt.subplots_adjust(hspace=1)\n",
    "\n",
    "ax = plt.subplot(2, 1, 1)\n",
    "sns.countplot(y='death_event', data=df)\n",
    "ax.bar_label(ax.containers[0])\n",
    "plt.xlabel('death_event')\n",
    "plt.title('death_event')\n",
    "\n",
    "plt.show()"
   ]
  },
  {
   "cell_type": "markdown",
   "id": "3945b221",
   "metadata": {},
   "source": [
    "Dapat diketahui bahwa kedua grafik diatas masih tergolong tidak balance atau imbalanced karena perbedaannya terlalu jauh. Karena data tergolong imbalanced perlu dilakukan balancing data. Pada kasus ini menggunakan oversampling, yaitu menyeimbangkan dataset dengan menambah jumlah sampel pada kelas minoritas sehingga distribusi kelas menjadi lebih seimbang."
   ]
  },
  {
   "cell_type": "code",
   "execution_count": null,
   "id": "2654da86",
   "metadata": {},
   "outputs": [],
   "source": [
    "smote = SMOTE()\n",
    "X_resampled, y_resampled = smote.fit_resample(X, y)"
   ]
  },
  {
   "cell_type": "code",
   "execution_count": null,
   "id": "34f7fe4a",
   "metadata": {},
   "outputs": [],
   "source": [
    "plt.figure(figsize=(10, 4), facecolor=\"white\")\n",
    "plt.subplots_adjust(hspace=1)\n",
    "\n",
    "ax = plt.subplot(2, 1, 1)\n",
    "sns.countplot(y=y_resampled, data=df)\n",
    "ax.bar_label(ax.containers[0])\n",
    "plt.xlabel('death_event')\n",
    "plt.title('death_event')\n",
    "\n",
    "plt.show()"
   ]
  },
  {
   "cell_type": "code",
   "execution_count": null,
   "id": "d4d758fe",
   "metadata": {},
   "outputs": [],
   "source": [
    "# melakukan split pada X_resampled dan y_resampled\n",
    "X_train, X_test, y_train, y_test = train_test_split(X_resampled, y_resampled, test_size=0.3)"
   ]
  },
  {
   "cell_type": "code",
   "execution_count": null,
   "id": "cff20eb9",
   "metadata": {},
   "outputs": [],
   "source": [
    "naiveBayes = GaussianNB()\n",
    "knn = KNeighborsClassifier()\n",
    "randomForest = RandomForestClassifier()\n",
    "logReg = LogisticRegression()"
   ]
  },
  {
   "cell_type": "markdown",
   "id": "e15140a1",
   "metadata": {},
   "source": [
    "## Ensemble Model"
   ]
  },
  {
   "cell_type": "code",
   "execution_count": null,
   "id": "e91cc4a6",
   "metadata": {},
   "outputs": [],
   "source": [
    "# Inisialisasi Voting Classifier\n",
    "voting = VotingClassifier(estimators=[\n",
    "    ('naive_bayes', naiveBayes),\n",
    "    ('knn', knn),\n",
    "    ('random_forest', randomForest),\n",
    "    ('logistic_regression', logReg)\n",
    "])\n",
    "\n",
    "# Melatih model dengan data training\n",
    "voting.fit(X_train, y_train)\n",
    "\n",
    "# Mengevaluasi model dengan data testing\n",
    "score = voting.score(X_test, y_test)"
   ]
  },
  {
   "cell_type": "markdown",
   "id": "9e8c3c6e",
   "metadata": {},
   "source": [
    "# Evaluasi Model"
   ]
  },
  {
   "cell_type": "code",
   "execution_count": null,
   "id": "63c96ba7",
   "metadata": {},
   "outputs": [],
   "source": [
    "print('Akurasi model Voting Classifier:', score)"
   ]
  },
  {
   "cell_type": "code",
   "execution_count": null,
   "id": "b583b158",
   "metadata": {},
   "outputs": [],
   "source": [
    "voting_prediction = voting.predict(X_test)\n",
    "\n",
    "cm_voting = confusion_matrix(y_test, voting_prediction)\n",
    "fig,ax = plt.subplots(figsize=(4,4))\n",
    "plt.title(\"Confusion Matrix Logistic Regression\")\n",
    "\n",
    "ax.imshow(cm_voting)\n",
    "ax.grid(False)\n",
    "ax.xaxis.set(ticks=(0,1),ticklabels = ('Prediksi 0s','Prediksi 1s'))\n",
    "ax.yaxis.set(ticks=(0,1),ticklabels = ('Aktual 0s','Aktual 1s'))\n",
    "\n",
    "for i in range(2):\n",
    "    for j in range(2):\n",
    "        ax.text(j,i,cm_voting[i,j],ha='center',va='center',color='red')\n",
    "\n",
    "plt.show()"
   ]
  },
  {
   "cell_type": "markdown",
   "id": "e3ded31e",
   "metadata": {},
   "source": [
    "# Model Inference"
   ]
  },
  {
   "cell_type": "code",
   "execution_count": null,
   "id": "eaa7d2e3",
   "metadata": {},
   "outputs": [],
   "source": [
    "df.columns"
   ]
  },
  {
   "cell_type": "code",
   "execution_count": null,
   "id": "4348b7bb",
   "metadata": {},
   "outputs": [],
   "source": [
    "df_new = pd.DataFrame({\n",
    "    'age': [61, 58, 47],\n",
    "    'anaemia': [0, 1, 1],\n",
    "    'creatinine_phosphokinase': [200, 400, 500],\n",
    "    'diabetes': [0, 0, 1],\n",
    "    'ejection_fraction': [32, 45, 39],\n",
    "    'high_blood_pressure': [1, 0, 1],\n",
    "    'platelets': [217000, 318000, 265000],\n",
    "    'serum_creatinine': [0.9, 1, 1.2],\n",
    "    'serum_sodium': [134, 137, 139],\n",
    "    'sex': [1, 1, 0],\n",
    "    'smoking': [1, 0, 0],\n",
    "    'time': [2, 500, 150]\n",
    "})"
   ]
  },
  {
   "cell_type": "code",
   "execution_count": null,
   "id": "f5fd2875",
   "metadata": {},
   "outputs": [],
   "source": [
    "df_new2 = pd.DataFrame({\n",
    "    'age': [X_test.iloc[0,0], X_test.iloc[3,0], X_test.iloc[4,0]],\n",
    "    'anaemia': [X_test.iloc[0,1], X_test.iloc[3,1], X_test.iloc[4,1]],\n",
    "    'creatinine_phosphokinase': [X_test.iloc[0,2], X_test.iloc[3,2], X_test.iloc[4,2]],\n",
    "    'diabetes': [X_test.iloc[0,3], X_test.iloc[3,3], X_test.iloc[4,3]],\n",
    "    'ejection_fraction': [X_test.iloc[0,4], X_test.iloc[3,4], X_test.iloc[4,4]],\n",
    "    'high_blood_pressure': [X_test.iloc[0,5], X_test.iloc[3,5], X_test.iloc[4,5]],\n",
    "    'platelets': [X_test.iloc[0,6], X_test.iloc[3,6], X_test.iloc[4,6]],\n",
    "    'serum_creatinine': [X_test.iloc[0,7], X_test.iloc[3,7], X_test.iloc[4,7]],\n",
    "    'serum_sodium': [X_test.iloc[0,8], X_test.iloc[3,8], X_test.iloc[4,8]],\n",
    "    'sex': [X_test.iloc[0,9], X_test.iloc[3,9], X_test.iloc[4,9]],\n",
    "    'smoking': [X_test.iloc[0,10], X_test.iloc[3,10], X_test.iloc[4,10]],\n",
    "    'time': [X_test.iloc[0,11], X_test.iloc[3,11], X_test.iloc[4,11]]\n",
    "})"
   ]
  },
  {
   "cell_type": "code",
   "execution_count": null,
   "id": "4761aede",
   "metadata": {},
   "outputs": [],
   "source": [
    "df_new.head()"
   ]
  },
  {
   "cell_type": "code",
   "execution_count": null,
   "id": "23ba8bde",
   "metadata": {},
   "outputs": [],
   "source": [
    "df_new2.head()"
   ]
  },
  {
   "cell_type": "code",
   "execution_count": null,
   "id": "d60a063e",
   "metadata": {},
   "outputs": [],
   "source": [
    "voting_prediction_new = voting.predict(df_new)\n",
    "voting_prediction_new"
   ]
  },
  {
   "cell_type": "code",
   "execution_count": null,
   "id": "2a214dea",
   "metadata": {},
   "outputs": [],
   "source": [
    "voting_prediction_new2 = voting.predict(df_new2)\n",
    "voting_prediction_new2"
   ]
  },
  {
   "cell_type": "markdown",
   "id": "0c36a5ed",
   "metadata": {},
   "source": [
    "# Pengambilan Kesimpulan"
   ]
  },
  {
   "cell_type": "markdown",
   "id": "6ddf4f9a",
   "metadata": {},
   "source": [
    "**Faktor-Faktor** \n",
    "\n",
    "Dapat diketahui faktor-faktor yang mempengaruhi keselamatan pasien dengan riwayat penyakit jantung adalah sebagai berikut :\n",
    "\n",
    "1. age : umur pasien\n",
    "2. anaemia : apakah ada pengurangan haemoglobin\n",
    "3. creatinine_phosphokinase : level enzim CPK dalam mcg/L\n",
    "4. diabetes : apakah pasien punya riwayat diabetes\n",
    "5. ejection_fraction : persentase darah yang meninggalkan jantung dalam persentasi di setiap kontraksi jantung\n",
    "6. high_blood_pressure : apakah pasien punya darah tinggi\n",
    "7. platelets : jumlah platelet di darah dalam kiloplatelets/mL\n",
    "8. serum_creatinine : level serum creatinine di darah dalam mg/dL\n",
    "9. serum_sodium : level serum sodium di darah dalam mEq/L\n",
    "10. sex : apakah pasien pria atau wanita\n",
    "11. smoking : apakah pasien merokok\n",
    "12. time : waktu dalam hari untuk follow-up\n",
    "13. DEATH_EVENT : apakah pasien sudah meninggal saat waktu follow-up\n",
    "    \n",
    "**Akurasi** \n",
    "\n",
    "Berdasarkan pelatihan ensemble model yang telah dilakukan dapat diperoleh akurasi dari model Voting dari keempat model(Naive Bayes, KNN, Random Forest, dan Logistic Regression) adalah sebesar 87.70 %\n",
    "\n",
    "**Wawasan**\n",
    "\n",
    "Insight yang ditemukan dalam prediksi keselamatan pasien dengan riwayat penyakit jantung adalah sebagai berikut :\n",
    "1. Dapat diketahui bahwa pasien yang meninggal karena penyakit jantung paling banyak berumur 60-an tahun\n",
    "2. Dapat diketahui bahwa pasien yang memiliki penyakit jantung kebanyakan berjenis kelamin laki-laki\n",
    "3. Dapat diketahui bahwa pasien yang meninggal biasanya memiliki kadar kreatinin lebih tinggi dan/atau kadar sodium yang lebih rendah "
   ]
  },
  {
   "cell_type": "code",
   "execution_count": null,
   "id": "5308d300",
   "metadata": {},
   "outputs": [],
   "source": []
  }
 ],
 "metadata": {
  "kernelspec": {
   "display_name": "Python 3 (ipykernel)",
   "language": "python",
   "name": "python3"
  },
  "language_info": {
   "codemirror_mode": {
    "name": "ipython",
    "version": 3
   },
   "file_extension": ".py",
   "mimetype": "text/x-python",
   "name": "python",
   "nbconvert_exporter": "python",
   "pygments_lexer": "ipython3",
   "version": "3.9.12"
  },
  "toc": {
   "base_numbering": 1,
   "nav_menu": {},
   "number_sections": true,
   "sideBar": true,
   "skip_h1_title": false,
   "title_cell": "Table of Contents",
   "title_sidebar": "Contents",
   "toc_cell": false,
   "toc_position": {
    "height": "calc(100% - 180px)",
    "left": "10px",
    "top": "150px",
    "width": "256px"
   },
   "toc_section_display": true,
   "toc_window_display": true
  }
 },
 "nbformat": 4,
 "nbformat_minor": 5
}
